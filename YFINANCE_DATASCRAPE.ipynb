{
 "cells": [
  {
   "cell_type": "code",
   "execution_count": 2,
   "metadata": {},
   "outputs": [],
   "source": [
    "import numpy as np\n",
    "import pandas as pd\n",
    "import yfinance as yf\n",
    "\n",
    "import matplotlib.pyplot as plt\n",
    "import matplotlib as mpl\n",
    "from matplotlib import cycler\n"
   ]
  },
  {
   "cell_type": "code",
   "execution_count": 3,
   "metadata": {},
   "outputs": [],
   "source": [
    "def preprocessing_yf(symbol):\n",
    "    global df\n",
    " #Import data\n",
    "    df = yf.download(\"EURUSD=X\").dropna()\n",
    "\n",
    " #Rename\n",
    "    df.columns = [\"open\", \"high\", \"low\", \"close\", \"adj close\", \"volume\"]\n",
    "    df.index.name = \"time\"\n",
    "\n",
    "    #Remove adj close\n",
    "    del df[\"adj close\"]\n",
    "\n",
    "    return df"
   ]
  },
  {
   "cell_type": "code",
   "execution_count": 4,
   "metadata": {},
   "outputs": [
    {
     "name": "stderr",
     "output_type": "stream",
     "text": [
      "[*********************100%%**********************]  1 of 1 completed"
     ]
    },
    {
     "name": "stdout",
     "output_type": "stream",
     "text": [
      "                open      high       low     close  volume\n",
      "time                                                      \n",
      "2003-12-01  1.203398  1.204007  1.194401  1.196501       0\n",
      "2003-12-02  1.196101  1.210903  1.194600  1.208897       0\n",
      "2003-12-03  1.209000  1.213003  1.207700  1.212298       0\n",
      "2003-12-04  1.212004  1.214403  1.204398  1.208094       0\n",
      "2003-12-05  1.207802  1.219096  1.206593  1.218695       0\n",
      "...              ...       ...       ...       ...     ...\n",
      "2024-03-13  1.092777  1.094931  1.092049  1.092777       0\n",
      "2024-03-14  1.095530  1.095470  1.088412  1.095530       0\n",
      "2024-03-15  1.088341  1.090156  1.087382  1.088341       0\n",
      "2024-03-18  1.088258  1.090750  1.088080  1.088258       0\n",
      "2024-03-19  1.087666  1.088021  1.083776  1.086484       0\n",
      "\n",
      "[5268 rows x 5 columns]\n"
     ]
    },
    {
     "name": "stderr",
     "output_type": "stream",
     "text": [
      "\n"
     ]
    }
   ],
   "source": [
    "print(preprocessing_yf('AAPL'))\n"
   ]
  },
  {
   "cell_type": "code",
   "execution_count": 6,
   "metadata": {},
   "outputs": [
    {
     "name": "stderr",
     "output_type": "stream",
     "text": [
      "c:\\Users\\mlilje01\\micromambaenv\\envs\\cs135_env\\lib\\site-packages\\yfinance\\scrapers\\history.py:408: FutureWarning: The default dtype for empty Series will be 'object' instead of 'float64' in a future version. Specify a dtype explicitly to silence this warning.\n",
      "  return pd.Series()\n"
     ]
    },
    {
     "name": "stdout",
     "output_type": "stream",
     "text": [
      "[{'uuid': '4205eaa9-f620-3a0b-a81a-0e82c7c9fd0b', 'title': 'Magnificent Seven Stocks To Buy And Watch: Meta, Nvidia, Tesla Slide', 'publisher': \"Investor's Business Daily\", 'link': 'https://finance.yahoo.com/m/4205eaa9-f620-3a0b-a81a-0e82c7c9fd0b/magnificent-seven-stocks-to.html', 'providerPublishTime': 1710859302, 'type': 'STORY', 'thumbnail': {'resolutions': [{'url': 'https://s.yimg.com/uu/api/res/1.2/IVY_jviTG_ue49k31izfew--~B/aD02MDA7dz0xMDY1O2FwcGlkPXl0YWNoeW9u/https://media.zenfs.com/en/ibd.com/f287385a5f84c1d1e13191d4ae92d9fb', 'width': 1065, 'height': 600, 'tag': 'original'}, {'url': 'https://s.yimg.com/uu/api/res/1.2/EDUpiEmpjj.CUhr9H67TBQ--~B/Zmk9ZmlsbDtoPTE0MDtweW9mZj0wO3c9MTQwO2FwcGlkPXl0YWNoeW9u/https://media.zenfs.com/en/ibd.com/f287385a5f84c1d1e13191d4ae92d9fb', 'width': 140, 'height': 140, 'tag': '140x140'}]}, 'relatedTickers': ['NVDA', 'AAPL', 'TSLA', 'META', 'MSFT']}, {'uuid': 'c4bb27e6-3f95-3526-a042-e8ce493c3c97', 'title': \"Prediction: Nvidia Will Become the World's Largest Company. Here's Why.\", 'publisher': 'Motley Fool', 'link': 'https://finance.yahoo.com/m/c4bb27e6-3f95-3526-a042-e8ce493c3c97/prediction%3A-nvidia-will.html', 'providerPublishTime': 1710857220, 'type': 'STORY', 'thumbnail': {'resolutions': [{'url': 'https://s.yimg.com/uu/api/res/1.2/laKUL6EaReKG4nuudH4D4Q--~B/aD03NDM7dz0xMDAwO2FwcGlkPXl0YWNoeW9u/https://media.zenfs.com/en/motleyfool.com/1949deec2e888d8b0a8d378f95054e0f', 'width': 1000, 'height': 743, 'tag': 'original'}, {'url': 'https://s.yimg.com/uu/api/res/1.2/bjCfoqv_SGgkLLW7SOXOIg--~B/Zmk9ZmlsbDtoPTE0MDtweW9mZj0wO3c9MTQwO2FwcGlkPXl0YWNoeW9u/https://media.zenfs.com/en/motleyfool.com/1949deec2e888d8b0a8d378f95054e0f', 'width': 140, 'height': 140, 'tag': '140x140'}]}, 'relatedTickers': ['NVDA', 'MSFT', 'AAPL']}, {'uuid': 'b07d7692-595e-3963-ba65-475b5e98ca68', 'title': 'Amid Rumors of a Deal With Rivian, Apple Acquired This Artificial Intelligence (AI) Start-Up Instead', 'publisher': 'Motley Fool', 'link': 'https://finance.yahoo.com/m/b07d7692-595e-3963-ba65-475b5e98ca68/amid-rumors-of-a-deal-with.html', 'providerPublishTime': 1710847800, 'type': 'STORY', 'thumbnail': {'resolutions': [{'url': 'https://s.yimg.com/uu/api/res/1.2/U3uIkxmsHzryHfq_ZStFVw--~B/aD05MzM7dz0xNDAwO2FwcGlkPXl0YWNoeW9u/https://media.zenfs.com/en/motleyfool.com/a404ffaee6fd43969e342cd4904261ff', 'width': 1400, 'height': 933, 'tag': 'original'}, {'url': 'https://s.yimg.com/uu/api/res/1.2/lG7GuTaHuc2WAxhsYF995w--~B/Zmk9ZmlsbDtoPTE0MDtweW9mZj0wO3c9MTQwO2FwcGlkPXl0YWNoeW9u/https://media.zenfs.com/en/motleyfool.com/a404ffaee6fd43969e342cd4904261ff', 'width': 140, 'height': 140, 'tag': '140x140'}]}, 'relatedTickers': ['AAPL', 'NVDA', 'MSFT']}, {'uuid': '35945fe1-1811-3122-b9c9-41e3b9239c56', 'title': 'Nvidia Has Global Dominance in Its Sights, Why It’s the New Apple. And 5 Other Things to Know Before Markets Open.', 'publisher': 'Barrons.com', 'link': 'https://finance.yahoo.com/m/35945fe1-1811-3122-b9c9-41e3b9239c56/nvidia-has-global-dominance.html', 'providerPublishTime': 1710844620, 'type': 'STORY', 'thumbnail': {'resolutions': [{'url': 'https://s.yimg.com/uu/api/res/1.2/avd72tPYlXk0PzDhEGWM3A--~B/aD02NDA7dz0xMjgwO2FwcGlkPXl0YWNoeW9u/https://media.zenfs.com/en/Barrons.com/df2ef35c250a4f933a843e21b668a8a4', 'width': 1280, 'height': 640, 'tag': 'original'}, {'url': 'https://s.yimg.com/uu/api/res/1.2/8AgZD1mrroRjL5PNxrtf5Q--~B/Zmk9ZmlsbDtoPTE0MDtweW9mZj0wO3c9MTQwO2FwcGlkPXl0YWNoeW9u/https://media.zenfs.com/en/Barrons.com/df2ef35c250a4f933a843e21b668a8a4', 'width': 140, 'height': 140, 'tag': '140x140'}]}, 'relatedTickers': ['NVDA', 'AAPL', 'GOOG', 'FSR']}, {'uuid': '305737f8-c587-335c-974f-36e389a93452', 'title': 'Apple and Google Could Team Up on Generative AI. Here\\'s Why Both \"Magnificent Seven\" Stocks Would Likely Win From a Deal.', 'publisher': 'Motley Fool', 'link': 'https://finance.yahoo.com/m/305737f8-c587-335c-974f-36e389a93452/apple-and-google-could-team.html', 'providerPublishTime': 1710844620, 'type': 'STORY', 'thumbnail': {'resolutions': [{'url': 'https://s.yimg.com/uu/api/res/1.2/3b9TW.4zWUcfXSZP.td_fw--~B/aD00NDgwO3c9NjcyMDthcHBpZD15dGFjaHlvbg--/https://media.zenfs.com/en/motleyfool.com/504ae4ef4ad9b6e4968c32b3830603fa', 'width': 6720, 'height': 4480, 'tag': 'original'}, {'url': 'https://s.yimg.com/uu/api/res/1.2/YrgPTK_Jit6ER_ZjRQhJ8Q--~B/Zmk9ZmlsbDtoPTE0MDtweW9mZj0wO3c9MTQwO2FwcGlkPXl0YWNoeW9u/https://media.zenfs.com/en/motleyfool.com/504ae4ef4ad9b6e4968c32b3830603fa', 'width': 140, 'height': 140, 'tag': '140x140'}]}, 'relatedTickers': ['AAPL', 'GOOG']}, {'uuid': 'd279ecd2-a6b0-3e55-8f4b-8a3c34c64ec8', 'title': 'This Is the Cheapest \"Magnificent Seven\" Stock, According to Peter Lynch\\'s Favorite Valuation Metric', 'publisher': 'Motley Fool', 'link': 'https://finance.yahoo.com/m/d279ecd2-a6b0-3e55-8f4b-8a3c34c64ec8/this-is-the-cheapest.html', 'providerPublishTime': 1710840960, 'type': 'STORY', 'thumbnail': {'resolutions': [{'url': 'https://s.yimg.com/uu/api/res/1.2/FTOWqO6YlpyJQkMJcv18_Q--~B/aD05MzM7dz0xNDAwO2FwcGlkPXl0YWNoeW9u/https://media.zenfs.com/en/motleyfool.com/5cec0fea295c196543d73a614f89a0fd', 'width': 1400, 'height': 933, 'tag': 'original'}, {'url': 'https://s.yimg.com/uu/api/res/1.2/mpxpED0Uy4ucZkU6WBu.jA--~B/Zmk9ZmlsbDtoPTE0MDtweW9mZj0wO3c9MTQwO2FwcGlkPXl0YWNoeW9u/https://media.zenfs.com/en/motleyfool.com/5cec0fea295c196543d73a614f89a0fd', 'width': 140, 'height': 140, 'tag': '140x140'}]}, 'relatedTickers': ['AMZN', 'NVDA', 'GOOG', 'TSLA', 'MSFT', 'AAPL']}, {'uuid': 'd158c74d-c4a2-4295-8187-92aebca63ba3', 'title': 'Companies are getting back control of their companies', 'publisher': 'Yahoo Finance', 'link': 'https://finance.yahoo.com/news/companies-are-getting-back-control-of-their-companies-090002906.html', 'providerPublishTime': 1710838802, 'type': 'STORY', 'thumbnail': {'resolutions': [{'url': 'https://s.yimg.com/uu/api/res/1.2/prqlibM0JxGSSCPQ1iNSRg--~B/aD0yNDI0O3c9NDExOTthcHBpZD15dGFjaHlvbg--/https://s.yimg.com/os/creatr-uploaded-images/2023-10/ec461be0-6864-11ee-b6fe-d248f1ae65fb', 'width': 4119, 'height': 2424, 'tag': 'original'}, {'url': 'https://s.yimg.com/uu/api/res/1.2/eVBH0kEeELZ512eJv7uWjw--~B/Zmk9ZmlsbDtoPTE0MDtweW9mZj0wO3c9MTQwO2FwcGlkPXl0YWNoeW9u/https://s.yimg.com/os/creatr-uploaded-images/2023-10/ec461be0-6864-11ee-b6fe-d248f1ae65fb', 'width': 140, 'height': 140, 'tag': '140x140'}]}, 'relatedTickers': ['JPM', 'TSN', 'AAPL', 'BLK', 'AMAT', 'STT', 'STT-PG', 'XOM']}, {'uuid': 'ee84a82c-ee5b-35ad-a519-462052fc1589', 'title': 'What a Potential Apple and Alphabet AI Partnership Could Mean for Investors', 'publisher': 'Motley Fool', 'link': 'https://finance.yahoo.com/m/ee84a82c-ee5b-35ad-a519-462052fc1589/what-a-potential-apple-and.html', 'providerPublishTime': 1710838800, 'type': 'STORY', 'thumbnail': {'resolutions': [{'url': 'https://s.yimg.com/uu/api/res/1.2/ZyTDMlKrhDYvx12Q2Vq7Fg--~B/aD01NTA0O3c9ODI1NjthcHBpZD15dGFjaHlvbg--/https://media.zenfs.com/en/motleyfool.com/f1acf2689f5a4fc6e46cb268b8bff1da', 'width': 8256, 'height': 5504, 'tag': 'original'}, {'url': 'https://s.yimg.com/uu/api/res/1.2/fiqNIWIo3zImQYwgKjGKrg--~B/Zmk9ZmlsbDtoPTE0MDtweW9mZj0wO3c9MTQwO2FwcGlkPXl0YWNoeW9u/https://media.zenfs.com/en/motleyfool.com/f1acf2689f5a4fc6e46cb268b8bff1da', 'width': 140, 'height': 140, 'tag': '140x140'}]}, 'relatedTickers': ['GOOG', 'AAPL']}]\n"
     ]
    }
   ],
   "source": [
    "msft = yf.Ticker(\"AAPL\")\n",
    "\n",
    "        # get all stock info\n",
    "msft.info\n",
    "\n",
    "        # get historical market data\n",
    "hist = msft.history(period=\"1mo\")\n",
    "\n",
    "        # show meta information about the history (requires history() to be called first)\n",
    "msft.history_metadata\n",
    "\n",
    "        # show actions (dividends, splits, capital gains)\n",
    "msft.actions\n",
    "msft.dividends\n",
    "msft.splits\n",
    "msft.capital_gains  # only for mutual funds & etfs\n",
    "\n",
    "        # show share count\n",
    "msft.get_shares_full(start=\"2022-01-01\", end=None)\n",
    "\n",
    "        # show financials:\n",
    "        # - income statement\n",
    "msft.income_stmt\n",
    "msft.quarterly_income_stmt\n",
    "        # - balance sheet\n",
    "msft.balance_sheet\n",
    "msft.quarterly_balance_sheet\n",
    "        # - cash flow statement\n",
    "msft.cashflow\n",
    "msft.quarterly_cashflow\n",
    "        # see `Ticker.get_income_stmt()` for more options\n",
    "\n",
    "        # show holders\n",
    "msft.major_holders\n",
    "msft.institutional_holders\n",
    "msft.mutualfund_holders\n",
    "msft.insider_transactions\n",
    "msft.insider_purchases\n",
    "msft.insider_roster_holders\n",
    "\n",
    "        # show recommendations\n",
    "msft.recommendations\n",
    "msft.recommendations_summary\n",
    "msft.upgrades_downgrades\n",
    "\n",
    "        # Show future and historic earnings dates, returns at most next 4 quarters and last 8 quarters by default. \n",
    "        # Note: If more are needed use msft.get_earnings_dates(limit=XX) with increased limit argument.\n",
    "msft.earnings_dates\n",
    "\n",
    "        # show ISIN code - *experimental*\n",
    "        # ISIN = International Securities Identification Number\n",
    "msft.isin\n",
    "\n",
    "        # show options expirations\n",
    "msft.options\n",
    "\n",
    "        # show news\n",
    "print(msft.news)\n",
    "\n",
    "        # get option chain for specific expiration\n",
    "# opt = msft.option_chain('YYYY-MM-DD')\n",
    "        # data available via: opt.calls, opt.puts"
   ]
  },
  {
   "cell_type": "code",
   "execution_count": 27,
   "metadata": {},
   "outputs": [
    {
     "name": "stdout",
     "output_type": "stream",
     "text": [
      "{'uuid': 'c4bb27e6-3f95-3526-a042-e8ce493c3c97', 'title': \"Prediction: Nvidia Will Become the World's Largest Company. Here's Why.\", 'publisher': 'Motley Fool', 'link': 'https://finance.yahoo.com/m/c4bb27e6-3f95-3526-a042-e8ce493c3c97/prediction%3A-nvidia-will.html', 'providerPublishTime': 1710857220, 'type': 'STORY', 'thumbnail': {'resolutions': [{'url': 'https://s.yimg.com/uu/api/res/1.2/laKUL6EaReKG4nuudH4D4Q--~B/aD03NDM7dz0xMDAwO2FwcGlkPXl0YWNoeW9u/https://media.zenfs.com/en/motleyfool.com/1949deec2e888d8b0a8d378f95054e0f', 'width': 1000, 'height': 743, 'tag': 'original'}, {'url': 'https://s.yimg.com/uu/api/res/1.2/bjCfoqv_SGgkLLW7SOXOIg--~B/Zmk9ZmlsbDtoPTE0MDtweW9mZj0wO3c9MTQwO2FwcGlkPXl0YWNoeW9u/https://media.zenfs.com/en/motleyfool.com/1949deec2e888d8b0a8d378f95054e0f', 'width': 140, 'height': 140, 'tag': '140x140'}]}, 'relatedTickers': ['NVDA', 'MSFT', 'AAPL']}\n",
      "1710857220\n",
      "https://finance.yahoo.com/m/c4bb27e6-3f95-3526-a042-e8ce493c3c97/prediction%3A-nvidia-will.html\n"
     ]
    }
   ],
   "source": [
    "A = msft.news\n",
    "first = A[1]\n",
    "print(first)\n",
    "print(first['providerPublishTime'])\n",
    "print(first['link'])"
   ]
  }
 ],
 "metadata": {
  "kernelspec": {
   "display_name": "Python 3",
   "language": "python",
   "name": "python3"
  },
  "language_info": {
   "codemirror_mode": {
    "name": "ipython",
    "version": 3
   },
   "file_extension": ".py",
   "mimetype": "text/x-python",
   "name": "python",
   "nbconvert_exporter": "python",
   "pygments_lexer": "ipython3",
   "version": "3.10.12"
  }
 },
 "nbformat": 4,
 "nbformat_minor": 2
}
