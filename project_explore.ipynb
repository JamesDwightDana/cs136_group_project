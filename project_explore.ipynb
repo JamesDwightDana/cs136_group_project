{
 "cells": [
  {
   "cell_type": "code",
   "execution_count": 95,
   "id": "e96ecbe8",
   "metadata": {},
   "outputs": [],
   "source": [
    "import numpy as np\n",
    "import pandas as pd\n",
    "import ta\n",
    "import scipy.stats\n",
    "from datetime import datetime\n",
    "import math\n",
    "from sklearn.pipeline import Pipeline\n",
    "from sklearn.naive_bayes import GaussianNB\n",
    "from sklearn.preprocessing import StandardScaler, MinMaxScaler, normalize\n",
    "from sklearn.metrics import confusion_matrix, accuracy_score\n",
    "from sklearn.model_selection import RandomizedSearchCV,GridSearchCV\n",
    "from sklearn.decomposition import PCA\n",
    "import matplotlib.pyplot as plt\n",
    "import seaborn as sns\n",
    "from sklearn.discriminant_analysis import LinearDiscriminantAnalysis\n",
    "import yfinance as yf\n"
   ]
  },
  {
   "cell_type": "code",
   "execution_count": 108,
   "id": "ca3ad628",
   "metadata": {},
   "outputs": [],
   "source": [
    "def preprocessing_yf(symbol):\n",
    "    global df\n",
    " #Import data\n",
    "    df = yf.download(symbol).dropna()\n",
    "\n",
    " #Rename\n",
    "    df.columns = [\"Open\", \"High\", \"Low\", \"Close\", \"Adj Close\", \"Volume\"]\n",
    "    df.index.name = \"Date\"\n",
    "\n",
    "    #Remove adj close\n",
    "    # del df[\"adj close\"]\n",
    "\n",
    "    return df"
   ]
  },
  {
   "cell_type": "code",
   "execution_count": 118,
   "id": "5012816c",
   "metadata": {},
   "outputs": [
    {
     "name": "stderr",
     "output_type": "stream",
     "text": [
      "[*********************100%%**********************]  1 of 1 completed\n"
     ]
    },
    {
     "data": {
      "text/html": [
       "<div>\n",
       "<style scoped>\n",
       "    .dataframe tbody tr th:only-of-type {\n",
       "        vertical-align: middle;\n",
       "    }\n",
       "\n",
       "    .dataframe tbody tr th {\n",
       "        vertical-align: top;\n",
       "    }\n",
       "\n",
       "    .dataframe thead th {\n",
       "        text-align: right;\n",
       "    }\n",
       "</style>\n",
       "<table border=\"1\" class=\"dataframe\">\n",
       "  <thead>\n",
       "    <tr style=\"text-align: right;\">\n",
       "      <th></th>\n",
       "      <th>Date</th>\n",
       "      <th>Open</th>\n",
       "      <th>High</th>\n",
       "      <th>Low</th>\n",
       "      <th>Close</th>\n",
       "      <th>Adj Close</th>\n",
       "      <th>Volume</th>\n",
       "    </tr>\n",
       "  </thead>\n",
       "  <tbody>\n",
       "    <tr>\n",
       "      <th>24168</th>\n",
       "      <td>2024-03-19</td>\n",
       "      <td>5139.089844</td>\n",
       "      <td>5180.310059</td>\n",
       "      <td>5131.589844</td>\n",
       "      <td>5178.509766</td>\n",
       "      <td>5178.509766</td>\n",
       "      <td>4031760000</td>\n",
       "    </tr>\n",
       "    <tr>\n",
       "      <th>24169</th>\n",
       "      <td>2024-03-20</td>\n",
       "      <td>5181.689941</td>\n",
       "      <td>5226.189941</td>\n",
       "      <td>5171.549805</td>\n",
       "      <td>5224.620117</td>\n",
       "      <td>5224.620117</td>\n",
       "      <td>4064850000</td>\n",
       "    </tr>\n",
       "    <tr>\n",
       "      <th>24170</th>\n",
       "      <td>2024-03-21</td>\n",
       "      <td>5253.430176</td>\n",
       "      <td>5261.100098</td>\n",
       "      <td>5240.660156</td>\n",
       "      <td>5241.529785</td>\n",
       "      <td>5241.529785</td>\n",
       "      <td>4207730000</td>\n",
       "    </tr>\n",
       "    <tr>\n",
       "      <th>24171</th>\n",
       "      <td>2024-03-22</td>\n",
       "      <td>5242.479980</td>\n",
       "      <td>5246.089844</td>\n",
       "      <td>5229.870117</td>\n",
       "      <td>5234.180176</td>\n",
       "      <td>5234.180176</td>\n",
       "      <td>3374700000</td>\n",
       "    </tr>\n",
       "    <tr>\n",
       "      <th>24172</th>\n",
       "      <td>2024-03-25</td>\n",
       "      <td>5219.520020</td>\n",
       "      <td>5228.950195</td>\n",
       "      <td>5216.089844</td>\n",
       "      <td>5224.100098</td>\n",
       "      <td>5224.100098</td>\n",
       "      <td>967007377</td>\n",
       "    </tr>\n",
       "  </tbody>\n",
       "</table>\n",
       "</div>"
      ],
      "text/plain": [
       "            Date         Open         High          Low        Close  \\\n",
       "24168 2024-03-19  5139.089844  5180.310059  5131.589844  5178.509766   \n",
       "24169 2024-03-20  5181.689941  5226.189941  5171.549805  5224.620117   \n",
       "24170 2024-03-21  5253.430176  5261.100098  5240.660156  5241.529785   \n",
       "24171 2024-03-22  5242.479980  5246.089844  5229.870117  5234.180176   \n",
       "24172 2024-03-25  5219.520020  5228.950195  5216.089844  5224.100098   \n",
       "\n",
       "         Adj Close      Volume  \n",
       "24168  5178.509766  4031760000  \n",
       "24169  5224.620117  4064850000  \n",
       "24170  5241.529785  4207730000  \n",
       "24171  5234.180176  3374700000  \n",
       "24172  5224.100098   967007377  "
      ]
     },
     "execution_count": 118,
     "metadata": {},
     "output_type": "execute_result"
    }
   ],
   "source": [
    "df = preprocessing_yf(\"^GSPC\")\n",
    "df = df.rename_axis('Date').reset_index()\n",
    "# df['Date'] = df['Date'].strftime('%Y-%m-%d')\n",
    "\n",
    "df.tail()"
   ]
  },
  {
   "cell_type": "code",
   "execution_count": 81,
   "id": "43a34076",
   "metadata": {},
   "outputs": [
    {
     "data": {
      "text/html": [
       "<div>\n",
       "<style scoped>\n",
       "    .dataframe tbody tr th:only-of-type {\n",
       "        vertical-align: middle;\n",
       "    }\n",
       "\n",
       "    .dataframe tbody tr th {\n",
       "        vertical-align: top;\n",
       "    }\n",
       "\n",
       "    .dataframe thead th {\n",
       "        text-align: right;\n",
       "    }\n",
       "</style>\n",
       "<table border=\"1\" class=\"dataframe\">\n",
       "  <thead>\n",
       "    <tr style=\"text-align: right;\">\n",
       "      <th></th>\n",
       "      <th>Date</th>\n",
       "      <th>Open</th>\n",
       "      <th>High</th>\n",
       "      <th>Low</th>\n",
       "      <th>Close</th>\n",
       "      <th>Adj Close</th>\n",
       "      <th>Volume</th>\n",
       "    </tr>\n",
       "  </thead>\n",
       "  <tbody>\n",
       "    <tr>\n",
       "      <th>4888</th>\n",
       "      <td>2020-03-26</td>\n",
       "      <td>47.090000</td>\n",
       "      <td>47.799999</td>\n",
       "      <td>46.750000</td>\n",
       "      <td>47.400002</td>\n",
       "      <td>47.400002</td>\n",
       "      <td>281800</td>\n",
       "    </tr>\n",
       "    <tr>\n",
       "      <th>4889</th>\n",
       "      <td>2020-03-27</td>\n",
       "      <td>45.889999</td>\n",
       "      <td>46.689999</td>\n",
       "      <td>45.450001</td>\n",
       "      <td>45.509998</td>\n",
       "      <td>45.509998</td>\n",
       "      <td>406600</td>\n",
       "    </tr>\n",
       "    <tr>\n",
       "      <th>4890</th>\n",
       "      <td>2020-03-30</td>\n",
       "      <td>46.389999</td>\n",
       "      <td>48.020000</td>\n",
       "      <td>46.389999</td>\n",
       "      <td>47.660000</td>\n",
       "      <td>47.660000</td>\n",
       "      <td>390100</td>\n",
       "    </tr>\n",
       "    <tr>\n",
       "      <th>4891</th>\n",
       "      <td>2020-03-31</td>\n",
       "      <td>48.500000</td>\n",
       "      <td>49.320000</td>\n",
       "      <td>48.200001</td>\n",
       "      <td>48.700001</td>\n",
       "      <td>48.700001</td>\n",
       "      <td>223500</td>\n",
       "    </tr>\n",
       "    <tr>\n",
       "      <th>4892</th>\n",
       "      <td>2020-04-01</td>\n",
       "      <td>46.020000</td>\n",
       "      <td>48.570000</td>\n",
       "      <td>45.849998</td>\n",
       "      <td>47.529999</td>\n",
       "      <td>47.529999</td>\n",
       "      <td>316500</td>\n",
       "    </tr>\n",
       "  </tbody>\n",
       "</table>\n",
       "</div>"
      ],
      "text/plain": [
       "            Date       Open       High        Low      Close  Adj Close  \\\n",
       "4888  2020-03-26  47.090000  47.799999  46.750000  47.400002  47.400002   \n",
       "4889  2020-03-27  45.889999  46.689999  45.450001  45.509998  45.509998   \n",
       "4890  2020-03-30  46.389999  48.020000  46.389999  47.660000  47.660000   \n",
       "4891  2020-03-31  48.500000  49.320000  48.200001  48.700001  48.700001   \n",
       "4892  2020-04-01  46.020000  48.570000  45.849998  47.529999  47.529999   \n",
       "\n",
       "      Volume  \n",
       "4888  281800  \n",
       "4889  406600  \n",
       "4890  390100  \n",
       "4891  223500  \n",
       "4892  316500  "
      ]
     },
     "execution_count": 81,
     "metadata": {},
     "output_type": "execute_result"
    }
   ],
   "source": [
    "# df = pd.read_csv(\"./data/SNP.csv\")\n",
    "# df.tail()"
   ]
  },
  {
   "cell_type": "code",
   "execution_count": 119,
   "id": "03a75668",
   "metadata": {},
   "outputs": [
    {
     "data": {
      "text/plain": [
       "Index(['volatility_kch', 'volatility_kcl', 'volatility_kcw', 'volatility_kcp',\n",
       "       'volatility_kchi', 'volatility_kcli', 'volatility_dcl',\n",
       "       'volatility_dch', 'volatility_dcm', 'volatility_dcw', 'volatility_dcp',\n",
       "       'volatility_atr', 'volatility_ui', 'trend_macd', 'trend_macd_signal',\n",
       "       'trend_macd_diff', 'trend_sma_fast', 'trend_sma_slow', 'trend_ema_fast',\n",
       "       'trend_ema_slow', 'trend_vortex_ind_pos', 'trend_vortex_ind_neg',\n",
       "       'trend_vortex_ind_diff', 'trend_trix', 'trend_mass_index', 'trend_dpo',\n",
       "       'trend_kst', 'trend_kst_sig', 'trend_kst_diff', 'trend_ichimoku_conv',\n",
       "       'trend_ichimoku_base', 'trend_ichimoku_a', 'trend_ichimoku_b',\n",
       "       'trend_stc', 'trend_adx', 'trend_adx_pos', 'trend_adx_neg', 'trend_cci',\n",
       "       'trend_visual_ichimoku_a', 'trend_visual_ichimoku_b', 'trend_aroon_up',\n",
       "       'trend_aroon_down', 'trend_aroon_ind', 'trend_psar_up',\n",
       "       'trend_psar_down', 'trend_psar_up_indicator',\n",
       "       'trend_psar_down_indicator', 'momentum_rsi', 'momentum_stoch_rsi',\n",
       "       'momentum_stoch_rsi_k', 'momentum_stoch_rsi_d', 'momentum_tsi',\n",
       "       'momentum_uo', 'momentum_stoch', 'momentum_stoch_signal', 'momentum_wr',\n",
       "       'momentum_ao', 'momentum_roc', 'momentum_ppo', 'momentum_ppo_signal',\n",
       "       'momentum_ppo_hist', 'momentum_pvo', 'momentum_pvo_signal',\n",
       "       'momentum_pvo_hist', 'momentum_kama', 'others_dr', 'others_dlr',\n",
       "       'others_cr', 'dateInt'],\n",
       "      dtype='object')"
      ]
     },
     "execution_count": 119,
     "metadata": {},
     "output_type": "execute_result"
    }
   ],
   "source": [
    "df = ta.add_all_ta_features(\n",
    "    df, open=\"Open\", high=\"High\", low=\"Low\", close=\"Close\", volume=\"Volume\", fillna=True)\n",
    "\n",
    "# Slow : 60+\n",
    "# Fast : 15\n",
    "# df['date'] = df['Date'].apply(lambda x: datetime.strptime(str(x),\"%Y-%m-%d\"))\n",
    "df['dateInt'] = df['Date'].apply(lambda x: (x - datetime(1970,1,1)).days)\n",
    "\n",
    "df.columns[25:]"
   ]
  },
  {
   "cell_type": "code",
   "execution_count": 120,
   "id": "5653cacd",
   "metadata": {},
   "outputs": [],
   "source": [
    "# Feature Vector Calculations.\n",
    "\n",
    "df['priceChange'] = df['Close']-df['Open']\n",
    "df['classPriceChange'] = df['priceChange']>0\n",
    "\n",
    "# Fast SMA is 12 days\n",
    "# Slow EMA is 26 days\n",
    "\n",
    "df['medPrice'] = ((df['High']+df['Low'])/2)\n",
    "df['typPrice'] = ((df['High']+df['Low']+df['Close'])/3)\n",
    "df['wtyPrice'] = ((df['High']+df['Low']+2*df['Close'])/3)"
   ]
  },
  {
   "cell_type": "code",
   "execution_count": 121,
   "id": "e403fd2a",
   "metadata": {},
   "outputs": [
    {
     "name": "stdout",
     "output_type": "stream",
     "text": [
      "       priceChange       Date  dateInt    volume_adi\n",
      "0         0.000000 1928-01-03   -15339  0.000000e+00\n",
      "1         0.000000 1928-01-04   -15338  0.000000e+00\n",
      "2         0.000000 1928-01-05   -15337  0.000000e+00\n",
      "3         0.000000 1928-01-06   -15336  0.000000e+00\n",
      "4         0.000000 1928-01-09   -15333  0.000000e+00\n",
      "...            ...        ...      ...           ...\n",
      "24167    39.419922 2024-03-19    19801  2.242783e+12\n",
      "24168    42.930176 2024-03-20    19802  2.246517e+12\n",
      "24169   -11.900391 2024-03-21    19803  2.250348e+12\n",
      "24170    -8.299805 2024-03-22    19804  2.246499e+12\n",
      "24171     4.580078 2024-03-25    19807  2.244917e+12\n",
      "\n",
      "[24172 rows x 4 columns]\n"
     ]
    }
   ],
   "source": [
    "df2 = pd.concat(\n",
    "    [\n",
    "        df[['classPriceChange','priceChange','Date','dateInt']],\n",
    "        df[list(df.columns[7:93])].shift(1),\n",
    "        df[list(df.columns[97:])].shift(1)\n",
    "    ],\n",
    "    axis=1)\n",
    "df2 = df2[1:].reset_index(drop=True)\n",
    "df2.head()\n",
    "print(df2.iloc[:,1:5])\n",
    "# print(df2[1:5])\n",
    "# df3 = df2.iloc[:, ::-1]\n",
    "# print(df3)"
   ]
  },
  {
   "cell_type": "code",
   "execution_count": 122,
   "id": "7ede4aee",
   "metadata": {},
   "outputs": [],
   "source": [
    "all_x = df2[df2.columns[3:]].values\n",
    "all_y = df2['classPriceChange'].values\n",
    "#df_input.head()\n",
    "\n",
    "# Train on the range (01/01/2002) - (12/31/2018), keep (2000-2001) and (2019-2020)\n",
    "train_test_mask = (df2['Date'] <= datetime(2019,1,1))&(df2['Date'] >= datetime(2001,1,1))\n",
    "\n",
    "train_x = all_x[train_test_mask]\n",
    "train_y = all_y[train_test_mask]\n",
    "\n",
    "test_x = all_x[~train_test_mask]\n",
    "test_y = all_y[~train_test_mask]"
   ]
  },
  {
   "cell_type": "code",
   "execution_count": 123,
   "id": "de7082ce",
   "metadata": {},
   "outputs": [
    {
     "name": "stdout",
     "output_type": "stream",
     "text": [
      "Index(['dateInt', 'volume_adi', 'volume_obv', 'volume_cmf', 'volume_fi',\n",
      "       'volume_em', 'volume_sma_em', 'volume_vpt', 'volume_vwap', 'volume_mfi',\n",
      "       'volume_nvi', 'volatility_bbm', 'volatility_bbh', 'volatility_bbl',\n",
      "       'volatility_bbw', 'volatility_bbp', 'volatility_bbhi',\n",
      "       'volatility_bbli', 'volatility_kcc', 'volatility_kch', 'volatility_kcl',\n",
      "       'volatility_kcw', 'volatility_kcp', 'volatility_kchi',\n",
      "       'volatility_kcli', 'volatility_dcl', 'volatility_dch', 'volatility_dcm',\n",
      "       'volatility_dcw', 'volatility_dcp', 'volatility_atr', 'volatility_ui',\n",
      "       'trend_macd', 'trend_macd_signal', 'trend_macd_diff', 'trend_sma_fast',\n",
      "       'trend_sma_slow', 'trend_ema_fast', 'trend_ema_slow',\n",
      "       'trend_vortex_ind_pos', 'trend_vortex_ind_neg', 'trend_vortex_ind_diff',\n",
      "       'trend_trix', 'trend_mass_index', 'trend_dpo', 'trend_kst',\n",
      "       'trend_kst_sig', 'trend_kst_diff', 'trend_ichimoku_conv',\n",
      "       'trend_ichimoku_base', 'trend_ichimoku_a', 'trend_ichimoku_b',\n",
      "       'trend_stc', 'trend_adx', 'trend_adx_pos', 'trend_adx_neg', 'trend_cci',\n",
      "       'trend_visual_ichimoku_a', 'trend_visual_ichimoku_b', 'trend_aroon_up',\n",
      "       'trend_aroon_down', 'trend_aroon_ind', 'trend_psar_up',\n",
      "       'trend_psar_down', 'trend_psar_up_indicator',\n",
      "       'trend_psar_down_indicator', 'momentum_rsi', 'momentum_stoch_rsi',\n",
      "       'momentum_stoch_rsi_k', 'momentum_stoch_rsi_d', 'momentum_tsi',\n",
      "       'momentum_uo', 'momentum_stoch', 'momentum_stoch_signal', 'momentum_wr',\n",
      "       'momentum_ao', 'momentum_roc', 'momentum_ppo', 'momentum_ppo_signal',\n",
      "       'momentum_ppo_hist', 'momentum_pvo', 'momentum_pvo_signal',\n",
      "       'momentum_pvo_hist', 'momentum_kama', 'others_dr', 'others_dlr',\n",
      "       'others_cr', 'typPrice', 'wtyPrice'],\n",
      "      dtype='object')\n"
     ]
    }
   ],
   "source": [
    "print(df2.columns[3:])"
   ]
  },
  {
   "cell_type": "code",
   "execution_count": 124,
   "id": "01314736",
   "metadata": {},
   "outputs": [
    {
     "name": "stdout",
     "output_type": "stream",
     "text": [
      "(24172, 89)\n",
      "(24172,)\n"
     ]
    }
   ],
   "source": [
    "print(all_x.shape)\n",
    "print(all_y.shape)"
   ]
  },
  {
   "cell_type": "code",
   "execution_count": 125,
   "id": "6a715476",
   "metadata": {},
   "outputs": [
    {
     "name": "stdout",
     "output_type": "stream",
     "text": [
      "[False False False False False False False False False False False False\n",
      " False False False False False False False False False False False False\n",
      " False False False False False False False False False False False False\n",
      " False False False False False False False False False False False False\n",
      " False False False False False False False False False False False False\n",
      " False False False False False False False False False False False False\n",
      " False False False False False False False False False False False False\n",
      " False False False False False]\n"
     ]
    }
   ],
   "source": [
    "lda = LinearDiscriminantAnalysis()\n",
    "X_train_new = lda.fit_transform(train_x,train_y)\n",
    "# X_test = lda.transform(X_test)\n",
    "# print(X_train_new)\n",
    "print(train_x[1,:]==X_train_new[1])"
   ]
  },
  {
   "cell_type": "code",
   "execution_count": 126,
   "id": "8dfae1bf",
   "metadata": {},
   "outputs": [],
   "source": [
    "# train_x[:,train_x[0,:] == X_train_new[0]]"
   ]
  },
  {
   "cell_type": "code",
   "execution_count": 127,
   "id": "abb0783a",
   "metadata": {},
   "outputs": [
    {
     "data": {
      "image/png": "[encoded data removed]",
      "text/plain": [
       "<Figure size 800x600 with 2 Axes>"
      ]
     },
     "metadata": {},
     "output_type": "display_data"
    }
   ],
   "source": [
    "#CORRELATION HEATMAP\n",
    "\n",
    "correlation_matrix = df3.corr(numeric_only = True)\n",
    "plt.figure(figsize=(8, 6))\n",
    "sns.heatmap(correlation_matrix, annot=True, cmap='coolwarm', linewidths=0.5)\n",
    "plt.title(\"Correlation Heatmap\")\n",
    "plt.show()"
   ]
  },
  {
   "cell_type": "code",
   "execution_count": 128,
   "id": "269f3d3d",
   "metadata": {},
   "outputs": [
    {
     "ename": "ValueError",
     "evalue": "Could not interpret value `Date` for parameter `x`",
     "output_type": "error",
     "traceback": [
      "\u001b[1;31m---------------------------------------------------------------------------\u001b[0m",
      "\u001b[1;31mValueError\u001b[0m                                Traceback (most recent call last)",
      "Cell \u001b[1;32mIn[128], line 5\u001b[0m\n\u001b[0;32m      3\u001b[0m \u001b[38;5;28;01mfor\u001b[39;00m i, feature \u001b[38;5;129;01min\u001b[39;00m \u001b[38;5;28menumerate\u001b[39m(df\u001b[38;5;241m.\u001b[39mcolumns):\n\u001b[0;32m      4\u001b[0m     plt\u001b[38;5;241m.\u001b[39msubplot(\u001b[38;5;241m2\u001b[39m, \u001b[38;5;241m2\u001b[39m, i \u001b[38;5;241m+\u001b[39m \u001b[38;5;241m1\u001b[39m)\n\u001b[1;32m----> 5\u001b[0m     \u001b[43msns\u001b[49m\u001b[38;5;241;43m.\u001b[39;49m\u001b[43mhistplot\u001b[49m\u001b[43m(\u001b[49m\u001b[43mdata\u001b[49m\u001b[38;5;241;43m=\u001b[39;49m\u001b[43mdf3\u001b[49m\u001b[43m,\u001b[49m\u001b[43m \u001b[49m\u001b[43mx\u001b[49m\u001b[38;5;241;43m=\u001b[39;49m\u001b[43mfeature\u001b[49m\u001b[43m,\u001b[49m\u001b[43m \u001b[49m\u001b[43mhue\u001b[49m\u001b[38;5;241;43m=\u001b[39;49m\u001b[38;5;124;43m'\u001b[39;49m\u001b[38;5;124;43mclassPricechange\u001b[39;49m\u001b[38;5;124;43m'\u001b[39;49m\u001b[43m,\u001b[49m\u001b[43m \u001b[49m\u001b[43mkde\u001b[49m\u001b[38;5;241;43m=\u001b[39;49m\u001b[38;5;28;43;01mTrue\u001b[39;49;00m\u001b[43m)\u001b[49m\n\u001b[0;32m      6\u001b[0m     plt\u001b[38;5;241m.\u001b[39mtitle(\u001b[38;5;124mf\u001b[39m\u001b[38;5;124m'\u001b[39m\u001b[38;5;132;01m{\u001b[39;00mfeature\u001b[38;5;132;01m}\u001b[39;00m\u001b[38;5;124m Distribution\u001b[39m\u001b[38;5;124m'\u001b[39m)\n\u001b[0;32m      8\u001b[0m plt\u001b[38;5;241m.\u001b[39mtight_layout()\n",
      "File \u001b[1;32mc:\\Users\\mlilje01\\micromambaenv\\envs\\cs135_env\\lib\\site-packages\\seaborn\\distributions.py:1395\u001b[0m, in \u001b[0;36mhistplot\u001b[1;34m(data, x, y, hue, weights, stat, bins, binwidth, binrange, discrete, cumulative, common_bins, common_norm, multiple, element, fill, shrink, kde, kde_kws, line_kws, thresh, pthresh, pmax, cbar, cbar_ax, cbar_kws, palette, hue_order, hue_norm, color, log_scale, legend, ax, **kwargs)\u001b[0m\n\u001b[0;32m   1374\u001b[0m \u001b[38;5;28;01mdef\u001b[39;00m \u001b[38;5;21mhistplot\u001b[39m(\n\u001b[0;32m   1375\u001b[0m     data\u001b[38;5;241m=\u001b[39m\u001b[38;5;28;01mNone\u001b[39;00m, \u001b[38;5;241m*\u001b[39m,\n\u001b[0;32m   1376\u001b[0m     \u001b[38;5;66;03m# Vector variables\u001b[39;00m\n\u001b[1;32m   (...)\u001b[0m\n\u001b[0;32m   1392\u001b[0m     \u001b[38;5;241m*\u001b[39m\u001b[38;5;241m*\u001b[39mkwargs,\n\u001b[0;32m   1393\u001b[0m ):\n\u001b[1;32m-> 1395\u001b[0m     p \u001b[38;5;241m=\u001b[39m \u001b[43m_DistributionPlotter\u001b[49m\u001b[43m(\u001b[49m\n\u001b[0;32m   1396\u001b[0m \u001b[43m        \u001b[49m\u001b[43mdata\u001b[49m\u001b[38;5;241;43m=\u001b[39;49m\u001b[43mdata\u001b[49m\u001b[43m,\u001b[49m\n\u001b[0;32m   1397\u001b[0m \u001b[43m        \u001b[49m\u001b[43mvariables\u001b[49m\u001b[38;5;241;43m=\u001b[39;49m\u001b[43m_DistributionPlotter\u001b[49m\u001b[38;5;241;43m.\u001b[39;49m\u001b[43mget_semantics\u001b[49m\u001b[43m(\u001b[49m\u001b[38;5;28;43mlocals\u001b[39;49m\u001b[43m(\u001b[49m\u001b[43m)\u001b[49m\u001b[43m)\u001b[49m\n\u001b[0;32m   1398\u001b[0m \u001b[43m    \u001b[49m\u001b[43m)\u001b[49m\n\u001b[0;32m   1400\u001b[0m     p\u001b[38;5;241m.\u001b[39mmap_hue(palette\u001b[38;5;241m=\u001b[39mpalette, order\u001b[38;5;241m=\u001b[39mhue_order, norm\u001b[38;5;241m=\u001b[39mhue_norm)\n\u001b[0;32m   1402\u001b[0m     \u001b[38;5;28;01mif\u001b[39;00m ax \u001b[38;5;129;01mis\u001b[39;00m \u001b[38;5;28;01mNone\u001b[39;00m:\n",
      "File \u001b[1;32mc:\\Users\\mlilje01\\micromambaenv\\envs\\cs135_env\\lib\\site-packages\\seaborn\\distributions.py:113\u001b[0m, in \u001b[0;36m_DistributionPlotter.__init__\u001b[1;34m(self, data, variables)\u001b[0m\n\u001b[0;32m    107\u001b[0m \u001b[38;5;28;01mdef\u001b[39;00m \u001b[38;5;21m__init__\u001b[39m(\n\u001b[0;32m    108\u001b[0m     \u001b[38;5;28mself\u001b[39m,\n\u001b[0;32m    109\u001b[0m     data\u001b[38;5;241m=\u001b[39m\u001b[38;5;28;01mNone\u001b[39;00m,\n\u001b[0;32m    110\u001b[0m     variables\u001b[38;5;241m=\u001b[39m{},\n\u001b[0;32m    111\u001b[0m ):\n\u001b[1;32m--> 113\u001b[0m     \u001b[38;5;28;43msuper\u001b[39;49m\u001b[43m(\u001b[49m\u001b[43m)\u001b[49m\u001b[38;5;241;43m.\u001b[39;49m\u001b[38;5;21;43m__init__\u001b[39;49m\u001b[43m(\u001b[49m\u001b[43mdata\u001b[49m\u001b[38;5;241;43m=\u001b[39;49m\u001b[43mdata\u001b[49m\u001b[43m,\u001b[49m\u001b[43m \u001b[49m\u001b[43mvariables\u001b[49m\u001b[38;5;241;43m=\u001b[39;49m\u001b[43mvariables\u001b[49m\u001b[43m)\u001b[49m\n",
      "File \u001b[1;32mc:\\Users\\mlilje01\\micromambaenv\\envs\\cs135_env\\lib\\site-packages\\seaborn\\_oldcore.py:640\u001b[0m, in \u001b[0;36mVectorPlotter.__init__\u001b[1;34m(self, data, variables)\u001b[0m\n\u001b[0;32m    635\u001b[0m \u001b[38;5;66;03m# var_ordered is relevant only for categorical axis variables, and may\u001b[39;00m\n\u001b[0;32m    636\u001b[0m \u001b[38;5;66;03m# be better handled by an internal axis information object that tracks\u001b[39;00m\n\u001b[0;32m    637\u001b[0m \u001b[38;5;66;03m# such information and is set up by the scale_* methods. The analogous\u001b[39;00m\n\u001b[0;32m    638\u001b[0m \u001b[38;5;66;03m# information for numeric axes would be information about log scales.\u001b[39;00m\n\u001b[0;32m    639\u001b[0m \u001b[38;5;28mself\u001b[39m\u001b[38;5;241m.\u001b[39m_var_ordered \u001b[38;5;241m=\u001b[39m {\u001b[38;5;124m\"\u001b[39m\u001b[38;5;124mx\u001b[39m\u001b[38;5;124m\"\u001b[39m: \u001b[38;5;28;01mFalse\u001b[39;00m, \u001b[38;5;124m\"\u001b[39m\u001b[38;5;124my\u001b[39m\u001b[38;5;124m\"\u001b[39m: \u001b[38;5;28;01mFalse\u001b[39;00m}  \u001b[38;5;66;03m# alt., used DefaultDict\u001b[39;00m\n\u001b[1;32m--> 640\u001b[0m \u001b[38;5;28;43mself\u001b[39;49m\u001b[38;5;241;43m.\u001b[39;49m\u001b[43massign_variables\u001b[49m\u001b[43m(\u001b[49m\u001b[43mdata\u001b[49m\u001b[43m,\u001b[49m\u001b[43m \u001b[49m\u001b[43mvariables\u001b[49m\u001b[43m)\u001b[49m\n\u001b[0;32m    642\u001b[0m \u001b[38;5;28;01mfor\u001b[39;00m var, \u001b[38;5;28mcls\u001b[39m \u001b[38;5;129;01min\u001b[39;00m \u001b[38;5;28mself\u001b[39m\u001b[38;5;241m.\u001b[39m_semantic_mappings\u001b[38;5;241m.\u001b[39mitems():\n\u001b[0;32m    643\u001b[0m \n\u001b[0;32m    644\u001b[0m     \u001b[38;5;66;03m# Create the mapping function\u001b[39;00m\n\u001b[0;32m    645\u001b[0m     map_func \u001b[38;5;241m=\u001b[39m partial(\u001b[38;5;28mcls\u001b[39m\u001b[38;5;241m.\u001b[39mmap, plotter\u001b[38;5;241m=\u001b[39m\u001b[38;5;28mself\u001b[39m)\n",
      "File \u001b[1;32mc:\\Users\\mlilje01\\micromambaenv\\envs\\cs135_env\\lib\\site-packages\\seaborn\\_oldcore.py:701\u001b[0m, in \u001b[0;36mVectorPlotter.assign_variables\u001b[1;34m(self, data, variables)\u001b[0m\n\u001b[0;32m    699\u001b[0m \u001b[38;5;28;01melse\u001b[39;00m:\n\u001b[0;32m    700\u001b[0m     \u001b[38;5;28mself\u001b[39m\u001b[38;5;241m.\u001b[39minput_format \u001b[38;5;241m=\u001b[39m \u001b[38;5;124m\"\u001b[39m\u001b[38;5;124mlong\u001b[39m\u001b[38;5;124m\"\u001b[39m\n\u001b[1;32m--> 701\u001b[0m     plot_data, variables \u001b[38;5;241m=\u001b[39m \u001b[38;5;28mself\u001b[39m\u001b[38;5;241m.\u001b[39m_assign_variables_longform(\n\u001b[0;32m    702\u001b[0m         data, \u001b[38;5;241m*\u001b[39m\u001b[38;5;241m*\u001b[39mvariables,\n\u001b[0;32m    703\u001b[0m     )\n\u001b[0;32m    705\u001b[0m \u001b[38;5;28mself\u001b[39m\u001b[38;5;241m.\u001b[39mplot_data \u001b[38;5;241m=\u001b[39m plot_data\n\u001b[0;32m    706\u001b[0m \u001b[38;5;28mself\u001b[39m\u001b[38;5;241m.\u001b[39mvariables \u001b[38;5;241m=\u001b[39m variables\n",
      "File \u001b[1;32mc:\\Users\\mlilje01\\micromambaenv\\envs\\cs135_env\\lib\\site-packages\\seaborn\\_oldcore.py:938\u001b[0m, in \u001b[0;36mVectorPlotter._assign_variables_longform\u001b[1;34m(self, data, **kwargs)\u001b[0m\n\u001b[0;32m    933\u001b[0m \u001b[38;5;28;01melif\u001b[39;00m \u001b[38;5;28misinstance\u001b[39m(val, (\u001b[38;5;28mstr\u001b[39m, \u001b[38;5;28mbytes\u001b[39m)):\n\u001b[0;32m    934\u001b[0m \n\u001b[0;32m    935\u001b[0m     \u001b[38;5;66;03m# This looks like a column name but we don't know what it means!\u001b[39;00m\n\u001b[0;32m    937\u001b[0m     err \u001b[38;5;241m=\u001b[39m \u001b[38;5;124mf\u001b[39m\u001b[38;5;124m\"\u001b[39m\u001b[38;5;124mCould not interpret value `\u001b[39m\u001b[38;5;132;01m{\u001b[39;00mval\u001b[38;5;132;01m}\u001b[39;00m\u001b[38;5;124m` for parameter `\u001b[39m\u001b[38;5;132;01m{\u001b[39;00mkey\u001b[38;5;132;01m}\u001b[39;00m\u001b[38;5;124m`\u001b[39m\u001b[38;5;124m\"\u001b[39m\n\u001b[1;32m--> 938\u001b[0m     \u001b[38;5;28;01mraise\u001b[39;00m \u001b[38;5;167;01mValueError\u001b[39;00m(err)\n\u001b[0;32m    940\u001b[0m \u001b[38;5;28;01melse\u001b[39;00m:\n\u001b[0;32m    941\u001b[0m \n\u001b[0;32m    942\u001b[0m     \u001b[38;5;66;03m# Otherwise, assume the value is itself data\u001b[39;00m\n\u001b[0;32m    943\u001b[0m \n\u001b[0;32m    944\u001b[0m     \u001b[38;5;66;03m# Raise when data object is present and a vector can't matched\u001b[39;00m\n\u001b[0;32m    945\u001b[0m     \u001b[38;5;28;01mif\u001b[39;00m \u001b[38;5;28misinstance\u001b[39m(data, pd\u001b[38;5;241m.\u001b[39mDataFrame) \u001b[38;5;129;01mand\u001b[39;00m \u001b[38;5;129;01mnot\u001b[39;00m \u001b[38;5;28misinstance\u001b[39m(val, pd\u001b[38;5;241m.\u001b[39mSeries):\n",
      "\u001b[1;31mValueError\u001b[0m: Could not interpret value `Date` for parameter `x`"
     ]
    },
    {
     "data": {
      "image/png": "[encoded data removed]",
      "text/plain": [
       "<Figure size 1200x600 with 1 Axes>"
      ]
     },
     "metadata": {},
     "output_type": "display_data"
    }
   ],
   "source": [
    "# Visualize the distribution of each feature using histograms.\n",
    "plt.figure(figsize=(12, 6))\n",
    "for i, feature in enumerate(df.columns):\n",
    "    plt.subplot(2, 2, i + 1)\n",
    "    sns.histplot(data=df3, x=feature, hue='classPricechange', kde=True)\n",
    "    plt.title(f'{feature} Distribution')\n",
    "\n",
    "plt.tight_layout()\n",
    "plt.show()"
   ]
  },
  {
   "cell_type": "code",
   "execution_count": null,
   "id": "053c03b2",
   "metadata": {},
   "outputs": [],
   "source": [
    "# Create a pair plot to visualize relationships between different features and corresponding binary outcomes.\n",
    "ax = sns.pairplot(df3, hue='classPricechange', markers=[\"o\", \"s\"])\n",
    "plt.suptitle(\"Pair Plot of technical indicators Dataset\")\n",
    "sns.move_legend(\n",
    "    ax, \"lower center\",\n",
    "    bbox_to_anchor=(.5, 1), ncol=2, title=None, frameon=False)\n",
    "plt.tight_layout()\n",
    "plt.show()"
   ]
  },
  {
   "cell_type": "code",
   "execution_count": 129,
   "metadata": {},
   "outputs": [
    {
     "data": {
      "text/html": [
       "<style>#sk-container-id-4 {color: black;background-color: white;}#sk-container-id-4 pre{padding: 0;}#sk-container-id-4 div.sk-toggleable {background-color: white;}#sk-container-id-4 label.sk-toggleable__label {cursor: pointer;display: block;width: 100%;margin-bottom: 0;padding: 0.3em;box-sizing: border-box;text-align: center;}#sk-container-id-4 label.sk-toggleable__label-arrow:before {content: \"▸\";float: left;margin-right: 0.25em;color: #696969;}#sk-container-id-4 label.sk-toggleable__label-arrow:hover:before {color: black;}#sk-container-id-4 div.sk-estimator:hover label.sk-toggleable__label-arrow:before {color: black;}#sk-container-id-4 div.sk-toggleable__content {max-height: 0;max-width: 0;overflow: hidden;text-align: left;background-color: #f0f8ff;}#sk-container-id-4 div.sk-toggleable__content pre {margin: 0.2em;color: black;border-radius: 0.25em;background-color: #f0f8ff;}#sk-container-id-4 input.sk-toggleable__control:checked~div.sk-toggleable__content {max-height: 200px;max-width: 100%;overflow: auto;}#sk-container-id-4 input.sk-toggleable__control:checked~label.sk-toggleable__label-arrow:before {content: \"▾\";}#sk-container-id-4 div.sk-estimator input.sk-toggleable__control:checked~label.sk-toggleable__label {background-color: #d4ebff;}#sk-container-id-4 div.sk-label input.sk-toggleable__control:checked~label.sk-toggleable__label {background-color: #d4ebff;}#sk-container-id-4 input.sk-hidden--visually {border: 0;clip: rect(1px 1px 1px 1px);clip: rect(1px, 1px, 1px, 1px);height: 1px;margin: -1px;overflow: hidden;padding: 0;position: absolute;width: 1px;}#sk-container-id-4 div.sk-estimator {font-family: monospace;background-color: #f0f8ff;border: 1px dotted black;border-radius: 0.25em;box-sizing: border-box;margin-bottom: 0.5em;}#sk-container-id-4 div.sk-estimator:hover {background-color: #d4ebff;}#sk-container-id-4 div.sk-parallel-item::after {content: \"\";width: 100%;border-bottom: 1px solid gray;flex-grow: 1;}#sk-container-id-4 div.sk-label:hover label.sk-toggleable__label {background-color: #d4ebff;}#sk-container-id-4 div.sk-serial::before {content: \"\";position: absolute;border-left: 1px solid gray;box-sizing: border-box;top: 0;bottom: 0;left: 50%;z-index: 0;}#sk-container-id-4 div.sk-serial {display: flex;flex-direction: column;align-items: center;background-color: white;padding-right: 0.2em;padding-left: 0.2em;position: relative;}#sk-container-id-4 div.sk-item {position: relative;z-index: 1;}#sk-container-id-4 div.sk-parallel {display: flex;align-items: stretch;justify-content: center;background-color: white;position: relative;}#sk-container-id-4 div.sk-item::before, #sk-container-id-4 div.sk-parallel-item::before {content: \"\";position: absolute;border-left: 1px solid gray;box-sizing: border-box;top: 0;bottom: 0;left: 50%;z-index: -1;}#sk-container-id-4 div.sk-parallel-item {display: flex;flex-direction: column;z-index: 1;position: relative;background-color: white;}#sk-container-id-4 div.sk-parallel-item:first-child::after {align-self: flex-end;width: 50%;}#sk-container-id-4 div.sk-parallel-item:last-child::after {align-self: flex-start;width: 50%;}#sk-container-id-4 div.sk-parallel-item:only-child::after {width: 0;}#sk-container-id-4 div.sk-dashed-wrapped {border: 1px dashed gray;margin: 0 0.4em 0.5em 0.4em;box-sizing: border-box;padding-bottom: 0.4em;background-color: white;}#sk-container-id-4 div.sk-label label {font-family: monospace;font-weight: bold;display: inline-block;line-height: 1.2em;}#sk-container-id-4 div.sk-label-container {text-align: center;}#sk-container-id-4 div.sk-container {/* jupyter's `normalize.less` sets `[hidden] { display: none; }` but bootstrap.min.css set `[hidden] { display: none !important; }` so we also need the `!important` here to be able to override the default hidden behavior on the sphinx rendered scikit-learn.org. See: https://github.com/scikit-learn/scikit-learn/issues/21755 */display: inline-block !important;position: relative;}#sk-container-id-4 div.sk-text-repr-fallback {display: none;}</style><div id=\"sk-container-id-4\" class=\"sk-top-container\"><div class=\"sk-text-repr-fallback\"><pre>GridSearchCV(cv=5,\n",
       "             estimator=Pipeline(steps=[(&#x27;scaler&#x27;, StandardScaler()),\n",
       "                                       (&#x27;lda&#x27;, LinearDiscriminantAnalysis()),\n",
       "                                       (&#x27;gnb&#x27;, GaussianNB())]),\n",
       "             param_grid={&#x27;gnb__var_smoothing&#x27;: array([1.e-08, 1.e-07, 1.e-06, 1.e-05, 1.e-04, 1.e-03, 1.e-02, 1.e-01,\n",
       "       1.e+00, 1.e+01, 1.e+02])},\n",
       "             return_train_score=True)</pre><b>In a Jupyter environment, please rerun this cell to show the HTML representation or trust the notebook. <br />On GitHub, the HTML representation is unable to render, please try loading this page with nbviewer.org.</b></div><div class=\"sk-container\" hidden><div class=\"sk-item sk-dashed-wrapped\"><div class=\"sk-label-container\"><div class=\"sk-label sk-toggleable\"><input class=\"sk-toggleable__control sk-hidden--visually\" id=\"sk-estimator-id-16\" type=\"checkbox\" ><label for=\"sk-estimator-id-16\" class=\"sk-toggleable__label sk-toggleable__label-arrow\">GridSearchCV</label><div class=\"sk-toggleable__content\"><pre>GridSearchCV(cv=5,\n",
       "             estimator=Pipeline(steps=[(&#x27;scaler&#x27;, StandardScaler()),\n",
       "                                       (&#x27;lda&#x27;, LinearDiscriminantAnalysis()),\n",
       "                                       (&#x27;gnb&#x27;, GaussianNB())]),\n",
       "             param_grid={&#x27;gnb__var_smoothing&#x27;: array([1.e-08, 1.e-07, 1.e-06, 1.e-05, 1.e-04, 1.e-03, 1.e-02, 1.e-01,\n",
       "       1.e+00, 1.e+01, 1.e+02])},\n",
       "             return_train_score=True)</pre></div></div></div><div class=\"sk-parallel\"><div class=\"sk-parallel-item\"><div class=\"sk-item\"><div class=\"sk-label-container\"><div class=\"sk-label sk-toggleable\"><input class=\"sk-toggleable__control sk-hidden--visually\" id=\"sk-estimator-id-17\" type=\"checkbox\" ><label for=\"sk-estimator-id-17\" class=\"sk-toggleable__label sk-toggleable__label-arrow\">estimator: Pipeline</label><div class=\"sk-toggleable__content\"><pre>Pipeline(steps=[(&#x27;scaler&#x27;, StandardScaler()),\n",
       "                (&#x27;lda&#x27;, LinearDiscriminantAnalysis()), (&#x27;gnb&#x27;, GaussianNB())])</pre></div></div></div><div class=\"sk-serial\"><div class=\"sk-item\"><div class=\"sk-serial\"><div class=\"sk-item\"><div class=\"sk-estimator sk-toggleable\"><input class=\"sk-toggleable__control sk-hidden--visually\" id=\"sk-estimator-id-18\" type=\"checkbox\" ><label for=\"sk-estimator-id-18\" class=\"sk-toggleable__label sk-toggleable__label-arrow\">StandardScaler</label><div class=\"sk-toggleable__content\"><pre>StandardScaler()</pre></div></div></div><div class=\"sk-item\"><div class=\"sk-estimator sk-toggleable\"><input class=\"sk-toggleable__control sk-hidden--visually\" id=\"sk-estimator-id-19\" type=\"checkbox\" ><label for=\"sk-estimator-id-19\" class=\"sk-toggleable__label sk-toggleable__label-arrow\">LinearDiscriminantAnalysis</label><div class=\"sk-toggleable__content\"><pre>LinearDiscriminantAnalysis()</pre></div></div></div><div class=\"sk-item\"><div class=\"sk-estimator sk-toggleable\"><input class=\"sk-toggleable__control sk-hidden--visually\" id=\"sk-estimator-id-20\" type=\"checkbox\" ><label for=\"sk-estimator-id-20\" class=\"sk-toggleable__label sk-toggleable__label-arrow\">GaussianNB</label><div class=\"sk-toggleable__content\"><pre>GaussianNB()</pre></div></div></div></div></div></div></div></div></div></div></div></div>"
      ],
      "text/plain": [
       "GridSearchCV(cv=5,\n",
       "             estimator=Pipeline(steps=[('scaler', StandardScaler()),\n",
       "                                       ('lda', LinearDiscriminantAnalysis()),\n",
       "                                       ('gnb', GaussianNB())]),\n",
       "             param_grid={'gnb__var_smoothing': array([1.e-08, 1.e-07, 1.e-06, 1.e-05, 1.e-04, 1.e-03, 1.e-02, 1.e-01,\n",
       "       1.e+00, 1.e+01, 1.e+02])},\n",
       "             return_train_score=True)"
      ]
     },
     "execution_count": 129,
     "metadata": {},
     "output_type": "execute_result"
    }
   ],
   "source": [
    "myPipeline = Pipeline([\n",
    "    ('scaler', StandardScaler()),\n",
    "    ('lda',LinearDiscriminantAnalysis()),\n",
    "    ('gnb', GaussianNB())])\n",
    "\n",
    "parameter_grid = {\n",
    "    # 'pca__n_components':[10,20,40,80],\n",
    "    'gnb__var_smoothing':np.logspace(-8,2,11)\n",
    "}\n",
    "\n",
    "clf = GridSearchCV(myPipeline,\n",
    "                   parameter_grid,\n",
    "                   cv=5,\n",
    "                   return_train_score=True)\n",
    "clf.fit(train_x,train_y)"
   ]
  },
  {
   "cell_type": "code",
   "execution_count": 135,
   "id": "6575875f",
   "metadata": {},
   "outputs": [
    {
     "name": "stdout",
     "output_type": "stream",
     "text": [
      "Best Parameter Selected:\t: {'gnb__var_smoothing': 10.0}\n",
      "Holdout Confusion Matrix\n",
      "[[11330     0]\n",
      " [ 8315     0]]\n",
      "Holdout Model Accuracy:\t 0.5767370832272843\n"
     ]
    },
    {
     "data": {
      "image/png": "[encoded data removed]",
      "text/plain": [
       "<Figure size 640x480 with 1 Axes>"
      ]
     },
     "metadata": {},
     "output_type": "display_data"
    }
   ],
   "source": [
    "param_precision = [np.log10(x) for x in clf.cv_results_['param_gnb__var_smoothing'].data]\n",
    "\n",
    "df_cvtrain = pd.DataFrame(\n",
    "    {'source':'train',\n",
    "     'param_precision':param_precision,\n",
    "     'score':clf.cv_results_['mean_train_score']})\n",
    "\n",
    "df_cvvalid = pd.DataFrame(\n",
    "    {'source':'valid',\n",
    "     'param_precision':param_precision,\n",
    "     'score':clf.cv_results_['mean_test_score']})\n",
    "\n",
    "df_cv = pd.concat([df_cvtrain,df_cvvalid])\n",
    "\n",
    "sns.lineplot(data=df_cv, x=\"param_precision\",y='score',hue=\"source\")\n",
    "\n",
    "# test_yhat = clf.best_estimator_.predict(test_x)\n",
    "\n",
    "print(\"Best Parameter Selected:\\t:\",clf.best_params_)\n",
    "threshold = 0.6\n",
    "test_yhat = (clf.best_estimator_.predict_proba(test_x)[:, 1] > threshold).astype('float')\n",
    "print(\"Holdout Confusion Matrix\")\n",
    "print(confusion_matrix(test_y,test_yhat))\n",
    "\n",
    "print(\"Holdout Model Accuracy:\\t\",accuracy_score(test_y,test_yhat))"
   ]
  },
  {
   "cell_type": "code",
   "execution_count": null,
   "id": "da72077d",
   "metadata": {},
   "outputs": [
    {
     "data": {
      "image/png": "[encoded data removed]",
      "text/plain": [
       "<Figure size 640x480 with 1 Axes>"
      ]
     },
     "metadata": {},
     "output_type": "display_data"
    }
   ],
   "source": [
    "from sklearn import metrics\n",
    "\n",
    "\n",
    "probs = clf.predict_proba(test_x)\n",
    "prob_prd = probs[:,1]\n",
    "\n",
    "fpr, tpr, threshold = metrics.roc_curve(test_y, prob_prd)\n",
    "roc_auc = metrics.auc(fpr, tpr)\n",
    "\n",
    "import matplotlib.pyplot as plt\n",
    "plt.title('Receiver Operating Characteristic')\n",
    "plt.plot(fpr, tpr, 'b', label = 'AUC = %0.2f' % roc_auc)\n",
    "plt.legend(loc = 'lower right')\n",
    "plt.plot([0, 1], [0, 1],'r--')\n",
    "plt.xlim([0, 1])\n",
    "plt.ylim([0, 1])\n",
    "plt.ylabel('True Positive Rate')\n",
    "plt.xlabel('False Positive Rate')\n",
    "plt.show()"
   ]
  },
  {
   "cell_type": "code",
   "execution_count": null,
   "id": "12bb13ae",
   "metadata": {},
   "outputs": [
    {
     "data": {
      "text/plain": [
       "(4892, 90)"
      ]
     },
     "execution_count": 363,
     "metadata": {},
     "output_type": "execute_result"
    }
   ],
   "source": [
    "all_x.shape"
   ]
  },
  {
   "cell_type": "code",
   "execution_count": null,
   "id": "749e1a4a",
   "metadata": {},
   "outputs": [],
   "source": [
    "from sklearn.preprocessing import PolynomialFeatures"
   ]
  },
  {
   "cell_type": "code",
   "execution_count": null,
   "id": "bd5d6173",
   "metadata": {},
   "outputs": [],
   "source": [
    "X = np.arange(6).reshape(3, 2)"
   ]
  },
  {
   "cell_type": "code",
   "execution_count": null,
   "id": "7a105741",
   "metadata": {},
   "outputs": [],
   "source": [
    "def drawdown_function(series):\n",
    "    cum = series.dropna().cumsum() + 1\n",
    "    running_max = np.maximum.accumulate(cum)   #this function accumulates the max of the cumulative sum, for example (1,3,5,3,1) becomes (1,3,5,5,5) this will continue with 5 until a higher value comes along\n",
    "\n",
    "    drawdown = cum/running_max -1\n",
    "    return drawdown"
   ]
  },
  {
   "cell_type": "code",
   "execution_count": null,
   "id": "dcaea882",
   "metadata": {},
   "outputs": [],
   "source": [
    "#### Backtest Function ####\n",
    "def BackTest(series, annualized_scalar=252):   #default annualized_scalar data to 252 for daily sortino and alpha. if annualized_scalar = 12, this would correspond to monthly data.\n",
    "    sp500 = yf.download(\"^GSPC\")[\"Adj Close\"].pct_change(1) # import percent change of daily close every day\n",
    "\n",
    "    sp500.name = \"SP500\" #Change the name\n",
    "\n",
    "    val = pd.concat((series, sp500), axis=1).dropna() # put together the return of our data and the return of the sp500 concatenated along columns\n",
    "\n",
    "    drawdown = drawdown_function(series) *100 # compute the drawdown (the risk of strategy)\n",
    "\n",
    "    max_drawdown= - np.min(drawdown) #compute max drawdown\n",
    "\n",
    "    fig, (cum, dra) = plt.subplots(1,2, figsize=(20,6)) #initialize two subplots, 'cum' and 'dra'\n",
    "    fig.suptitle(\"BackTesting\", size=20)  #add subtitle\n",
    "\n",
    "\n",
    "    cum.plot(series.cumsum()*100, color = \"#B85A0F\") # plot cumulative sum of returns for data\n",
    "    cum.plot(val[\"SP500\"].cumsum()*100)#, color = \"B85A0F\") #plot cumulative sum of returns for index (index meant to represent the market)\n",
    "    cum.legend([\"Portfolio\", \"SP500\"])\n",
    "    cum.set_title(\"Cumulative Return\", size= 13)\n",
    "    cum.set_ylabel(\"Cumulative Return %\", size = 11)\n",
    "\n",
    "\n",
    "    dra.fill_between(drawdown.index, 0, drawdown, color = \"#C73954\", alpha=0.65) #Adds plot of the drawdown, with all the space between y=0 and y=drawdown being filled (what fill_between does) over the domain of the time the data takes place over fill_between(x, y1, y2=0)\n",
    "    dra.set_title(\"Drawdown\", size = 13)\n",
    "    dra.set_ylabel(\"Drawdown in %\", size=11)\n",
    "    plt.show()\n",
    "\n",
    "    sortino = np.sqrt(annualized_scalar) * series.mean()/series.loc[series<0].std() #compute the sortino \n",
    "    beta = np.cov(val[[\"return\", \"SP500\"]].values, rowvar=False)[0][1] / np.var(val[\"SP500\"].values) #compute the beta\n",
    "    alpha = (annualized_scalar) * series.mean() - (annualized_scalar)*beta*series.mean() #compute the alpha\n",
    "\n",
    "    print(f\"Sortino: {np.round(sortino,3)}\")\n",
    "    print(f\"Beta:{np.round(beta,3)}\")\n",
    "    print(f\"Alpha:{np.round(alpha*100,3)} %\")\n",
    "    print(f\"Max Drawdown:{np.round(max_drawdown,3)} %\")\n",
    "\n",
    "    ######################"
   ]
  }
 ],
 "metadata": {
  "kernelspec": {
   "display_name": "Python 3 (ipykernel)",
   "language": "python",
   "name": "python3"
  },
  "language_info": {
   "codemirror_mode": {
    "name": "ipython",
    "version": 3
   },
   "file_extension": ".py",
   "mimetype": "text/x-python",
   "name": "python",
   "nbconvert_exporter": "python",
   "pygments_lexer": "ipython3",
   "version": "3.10.12"
  }
 },
 "nbformat": 4,
 "nbformat_minor": 5
}
